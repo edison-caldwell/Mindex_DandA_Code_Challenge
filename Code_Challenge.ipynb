{
 "cells": [
  {
   "cell_type": "code",
   "execution_count": 9,
   "id": "07b29ac1-fae7-4046-b9f6-5a497f5a9c63",
   "metadata": {
    "editable": true,
    "slideshow": {
     "slide_type": ""
    },
    "tags": []
   },
   "outputs": [
    {
     "ename": "SyntaxError",
     "evalue": "expected ':' (622014312.py, line 38)",
     "output_type": "error",
     "traceback": [
      "\u001b[1;36m  Cell \u001b[1;32mIn[9], line 38\u001b[1;36m\u001b[0m\n\u001b[1;33m    except Exception as exception\u001b[0m\n\u001b[1;37m                                 ^\u001b[0m\n\u001b[1;31mSyntaxError\u001b[0m\u001b[1;31m:\u001b[0m expected ':'\n"
     ]
    }
   ],
   "source": [
    "import os\n",
    "import boto3\n",
    "import pandas as pd\n",
    "from botocore.exceptions import ClientError\n",
    "\n",
    "access_key_id = os.environ.get('AWS_ACCESS_KEY_ID')\n",
    "secret_access_key = os.environ.get('AWS_SECRET_ACCESS_KEY')\n",
    "\n",
    "if not aws_access_key_id or not aws_secret_access_key:\n",
    "    print(\"AWS environment variables are not set.\")\n",
    " \n",
    "bucket_name = 'mindex-data-analytics-code-challenge'\n",
    "\n",
    "s3_client = boto3.client('s3', \n",
    "    aws_access_key_id=access_key_id, \n",
    "    aws_secret_access_key=secret_access_key\n",
    ")\n",
    "\n",
    "try:\n",
    "    s3_client.head_bucket(Bucket=bucket_name)\n",
    "    print(f\"The bucket '{bucket_name}' exists.\")\n",
    "except ClientError as exception:\n",
    "    if exception.response['Error']['Code'] == '404':\n",
    "        print(f\"The bucket '{bucket_name}' does not exist.\")\n",
    "    else:\n",
    "        print(f\"An error occurred: {exception}\")\n",
    "\n",
    "file_keys = ['bengals.csv', 'boyd_receiving', 'chase_receiving.csv', 'higgins_receiving.csv']\n",
    "\n",
    "dataframes = {}\n",
    "\n",
    "for key in file_keys:\n",
    "    file_path = f'/downloads/temp_{key.replace(\"/\", \"_\")}'\n",
    "\n",
    "    try:\n",
    "        s3_client.download_file(bucket_name, key, file_path)\n",
    "        print(f\"File downloaded: {key}\")\n",
    "    except Exception as exception:\n",
    "        print(f\"An error occured downloading {key}: {exception}\")\n",
    "        \n",
    "    try:\n",
    "        df = pd.read_csv(file_path)\n",
    "        dataframes[key] = df\n",
    "    except Exception as exception:\n",
    "        print(f\"An error occured reading {file_path}\")"
   ]
  },
  {
   "cell_type": "code",
   "execution_count": null,
   "id": "ab5e339a-7b2f-4f5b-bfd7-3786c115af6c",
   "metadata": {},
   "outputs": [],
   "source": []
  }
 ],
 "metadata": {
  "kernelspec": {
   "display_name": "Python 3 (ipykernel)",
   "language": "python",
   "name": "python3"
  },
  "language_info": {
   "codemirror_mode": {
    "name": "ipython",
    "version": 3
   },
   "file_extension": ".py",
   "mimetype": "text/x-python",
   "name": "python",
   "nbconvert_exporter": "python",
   "pygments_lexer": "ipython3",
   "version": "3.11.4"
  }
 },
 "nbformat": 4,
 "nbformat_minor": 5
}
